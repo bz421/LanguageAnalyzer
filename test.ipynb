{
 "cells": [
  {
   "cell_type": "code",
   "execution_count": 1,
   "id": "initial_id",
   "metadata": {
    "collapsed": true,
    "ExecuteTime": {
     "end_time": "2024-12-05T18:50:13.752926Z",
     "start_time": "2024-12-05T18:50:00.650113Z"
    }
   },
   "outputs": [
    {
     "name": "stderr",
     "output_type": "stream",
     "text": [
      "C:\\Users\\boz42\\anaconda3\\Lib\\site-packages\\thinc\\shims\\pytorch.py:261: FutureWarning: You are using `torch.load` with `weights_only=False` (the current default value), which uses the default pickle module implicitly. It is possible to construct malicious pickle data which will execute arbitrary code during unpickling (See https://github.com/pytorch/pytorch/blob/main/SECURITY.md#untrusted-models for more details). In a future release, the default value for `weights_only` will be flipped to `True`. This limits the functions that could be executed during unpickling. Arbitrary objects will no longer be allowed to be loaded via this mode unless they are explicitly allowlisted by the user via `torch.serialization.add_safe_globals`. We recommend you start setting `weights_only=True` for any use case where you don't have full control of the loaded file. Please open an issue on GitHub for any issues related to this experimental feature.\n",
      "  model.load_state_dict(torch.load(filelike, map_location=device))\n"
     ]
    }
   ],
   "source": [
    "import spacy\n",
    "nlp = spacy.load('en_core_web_trf')"
   ]
  },
  {
   "cell_type": "code",
   "outputs": [],
   "source": [
    "text = 'This text may appear to be purely random, but it actually details the account of a quick brown dog jumping over the lazy brown fox.'\n",
    "doc = nlp(text)"
   ],
   "metadata": {
    "collapsed": false,
    "ExecuteTime": {
     "end_time": "2024-12-05T18:50:20.217131Z",
     "start_time": "2024-12-05T18:50:19.657861Z"
    }
   },
   "id": "c2112fd501afe4c3",
   "execution_count": 2
  },
  {
   "cell_type": "code",
   "outputs": [
    {
     "name": "stdout",
     "output_type": "stream",
     "text": [
      "This DET det\n",
      "text NOUN nsubj\n",
      "may AUX aux\n",
      "appear VERB ROOT\n",
      "to PART aux\n",
      "be AUX xcomp\n",
      "purely ADV advmod\n",
      "random ADJ acomp\n",
      ", PUNCT punct\n",
      "but CCONJ cc\n",
      "it PRON nsubj\n",
      "actually ADV advmod\n",
      "details VERB conj\n",
      "the DET det\n",
      "account NOUN dobj\n",
      "of ADP prep\n",
      "a DET det\n",
      "quick ADJ amod\n",
      "brown ADJ amod\n",
      "dog NOUN nsubj\n",
      "jumping VERB pcomp\n",
      "over ADP prep\n",
      "the DET det\n",
      "lazy ADJ amod\n",
      "brown ADJ amod\n",
      "fox NOUN pobj\n",
      ". PUNCT punct\n"
     ]
    }
   ],
   "source": [
    "for token in doc:\n",
    "    print(token.text, token.pos_, token.dep_)"
   ],
   "metadata": {
    "collapsed": false,
    "ExecuteTime": {
     "end_time": "2024-12-05T18:50:21.383521Z",
     "start_time": "2024-12-05T18:50:21.376108Z"
    }
   },
   "id": "426b9b503ce0aad5",
   "execution_count": 3
  }
 ],
 "metadata": {
  "kernelspec": {
   "display_name": "Python 3",
   "language": "python",
   "name": "python3"
  },
  "language_info": {
   "codemirror_mode": {
    "name": "ipython",
    "version": 2
   },
   "file_extension": ".py",
   "mimetype": "text/x-python",
   "name": "python",
   "nbconvert_exporter": "python",
   "pygments_lexer": "ipython2",
   "version": "2.7.6"
  }
 },
 "nbformat": 4,
 "nbformat_minor": 5
}
