{
 "cells": [
  {
   "cell_type": "code",
   "execution_count": 10,
   "id": "initial_id",
   "metadata": {
    "ExecuteTime": {
     "end_time": "2024-12-06T03:39:38.705549Z",
     "start_time": "2024-12-06T03:39:35.420701Z"
    },
    "collapsed": true
   },
   "outputs": [],
   "source": [
    "import spacy\n",
    "from spacy.matcher import Matcher\n",
    "from spacy.util import filter_spans\n"
   ]
  },
  {
   "cell_type": "code",
   "execution_count": 4,
   "id": "17f2e5ebcedf8776",
   "metadata": {
    "ExecuteTime": {
     "end_time": "2024-12-06T03:39:43.557530Z",
     "start_time": "2024-12-06T03:39:38.707568Z"
    },
    "collapsed": false
   },
   "outputs": [],
   "source": [
    "# nlp = spacy.load('en_core_web_trf')\n",
    "nlpES = spacy.load('es_dep_news_trf')"
   ]
  },
  {
   "cell_type": "code",
   "execution_count": 3,
   "id": "c2112fd501afe4c3",
   "metadata": {
    "ExecuteTime": {
     "end_time": "2024-12-06T03:39:43.756995Z",
     "start_time": "2024-12-06T03:39:43.559545Z"
    },
    "collapsed": false
   },
   "outputs": [],
   "source": [
    "text = 'This text may appear to be purely random, but it actually details the account of a quick brown dog jumping over the lazy brown fox.'\n",
    "doc = nlp(text)"
   ]
  },
  {
   "cell_type": "code",
   "execution_count": 4,
   "id": "426b9b503ce0aad5",
   "metadata": {
    "ExecuteTime": {
     "end_time": "2024-12-06T03:39:43.768686Z",
     "start_time": "2024-12-06T03:39:43.759012Z"
    },
    "collapsed": false
   },
   "outputs": [
    {
     "name": "stdout",
     "output_type": "stream",
     "text": [
      "This DET det\n",
      "text NOUN nsubj\n",
      "may AUX aux\n",
      "appear VERB ROOT\n",
      "to PART aux\n",
      "be AUX xcomp\n",
      "purely ADV advmod\n",
      "random ADJ acomp\n",
      ", PUNCT punct\n",
      "but CCONJ cc\n",
      "it PRON nsubj\n",
      "actually ADV advmod\n",
      "details VERB conj\n",
      "the DET det\n",
      "account NOUN dobj\n",
      "of ADP prep\n",
      "a DET det\n",
      "quick ADJ amod\n",
      "brown ADJ amod\n",
      "dog NOUN nsubj\n",
      "jumping VERB pcomp\n",
      "over ADP prep\n",
      "the DET det\n",
      "lazy ADJ amod\n",
      "brown ADJ amod\n",
      "fox NOUN pobj\n",
      ". PUNCT punct\n"
     ]
    }
   ],
   "source": [
    "for token in doc:\n",
    "    print(token.text, token.pos_, token.dep_)"
   ]
  },
  {
   "cell_type": "code",
   "execution_count": 5,
   "id": "fd4cdca4493c211e",
   "metadata": {
    "ExecuteTime": {
     "end_time": "2024-12-06T03:39:43.856168Z",
     "start_time": "2024-12-06T03:39:43.773682Z"
    },
    "collapsed": false
   },
   "outputs": [
    {
     "name": "stdout",
     "output_type": "stream",
     "text": [
      "[Case=Nom|Gender=Masc|Number=Sing|Person=3|PronType=Prs, Tense=Past|VerbForm=Fin, Tense=Past|VerbForm=Part, , Number=Sing, , Definite=Def|PronType=Art, Number=Sing, Tense=Past|VerbForm=Fin, PunctType=Peri]\n"
     ]
    }
   ],
   "source": [
    "lemmatizer = nlp.get_pipe('lemmatizer')\n",
    "lemmaDoc = nlp('He had been in Vienna when the earthquake struck.')\n",
    "print([token.morph for token in lemmaDoc])"
   ]
  },
  {
   "cell_type": "code",
   "execution_count": 17,
   "id": "3c5d951c9a983627",
   "metadata": {
    "ExecuteTime": {
     "end_time": "2024-12-06T03:43:22.999108Z",
     "start_time": "2024-12-06T03:43:22.953898Z"
    },
    "collapsed": false
   },
   "outputs": [],
   "source": [
    "d = nlpES(\"Quiero ver a Bozhan.\")\n",
    "# Since this is an interactive Jupyter environment, we can use displacy.render here\n",
    "# displacy.render(docES, style='dep')"
   ]
  },
  {
   "cell_type": "code",
   "execution_count": 19,
   "id": "55f884c498ff1ba2",
   "metadata": {
    "ExecuteTime": {
     "end_time": "2024-12-06T03:43:37.889802Z",
     "start_time": "2024-12-06T03:43:37.884046Z"
    },
    "collapsed": false
   },
   "outputs": [
    {
     "data": {
      "text/plain": [
       "[]"
      ]
     },
     "execution_count": 19,
     "metadata": {},
     "output_type": "execute_result"
    }
   ],
   "source": [
    "matcher = Matcher(nlpES.vocab)\n",
    "subjectPattern = [\n",
    "[\n",
    "        {'DEP': 'det', 'OP': '?'},  # Determiner\n",
    "        {'DEP': 'amod', 'OP': '*'}, # adjectival modifiers\n",
    "        {'POS': 'NOUN', 'DEP': 'nsubj'},  # Subject\n",
    "        {'POS': 'ADJ', 'OP': '*'}  # Optional adjectives\n",
    "],\n",
    "[\n",
    "        {'DEP': 'det', 'OP': '?'},  # Determiner\n",
    "        {'DEP': 'amod', 'OP': '*'},  # adjectival modifiers\n",
    "        {'POS': 'PRON', 'DEP': 'nsubj'},  # Subject(pronoun)\n",
    "        {'POS': 'ADJ', 'OP': '*'}  # Optional adjectives\n",
    "],\n",
    "[\n",
    "        {'DEP': 'det', 'OP': '?'},  # Determiner\n",
    "        {'DEP': 'amod', 'OP': '*'},  # adjectival modifiers\n",
    "        {'POS': 'PROPN', 'DEP': 'nsubj'},  # Subject(proper noun)\n",
    "        {'POS': 'PROPN', 'DEP': 'flat', 'OP': '*'}, # The rest of the proper noun(e.g. full names)\n",
    "        {'POS': 'ADJ', 'OP': '*'}  # Optional adjectives\n",
    "]\n",
    "]\n",
    "matcher.add('Subject', subjectPattern)\n",
    "matches = matcher(d)\n",
    "spans = [d[start:end] for _, start, end, in matches]\n",
    "filtered = filter_spans(spans)\n",
    "filtered = [str(f) for f in filtered]\n",
    "\n",
    "filtered"
   ]
  }
 ],
 "metadata": {
  "kernelspec": {
   "display_name": "base",
   "language": "python",
   "name": "python3"
  },
  "language_info": {
   "codemirror_mode": {
    "name": "ipython",
    "version": 3
   },
   "file_extension": ".py",
   "mimetype": "text/x-python",
   "name": "python",
   "nbconvert_exporter": "python",
   "pygments_lexer": "ipython3",
   "version": "3.11.9"
  }
 },
 "nbformat": 4,
 "nbformat_minor": 5
}
