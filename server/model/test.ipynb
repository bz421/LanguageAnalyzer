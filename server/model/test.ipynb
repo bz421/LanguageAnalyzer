{
 "cells": [
  {
   "cell_type": "code",
   "execution_count": 7,
   "id": "initial_id",
   "metadata": {
    "collapsed": true,
    "ExecuteTime": {
     "end_time": "2024-12-11T17:53:47.753537Z",
     "start_time": "2024-12-11T17:53:47.747420Z"
    }
   },
   "outputs": [],
   "source": [
    "import spacy\n",
    "from spacy import displacy"
   ]
  },
  {
   "cell_type": "code",
   "outputs": [
    {
     "name": "stderr",
     "output_type": "stream",
     "text": [
      "C:\\Users\\boz42\\anaconda3\\Lib\\site-packages\\transformers\\utils\\generic.py:441: FutureWarning: `torch.utils._pytree._register_pytree_node` is deprecated. Please use `torch.utils._pytree.register_pytree_node` instead.\n",
      "  _torch_pytree._register_pytree_node(\n",
      "C:\\Users\\boz42\\anaconda3\\Lib\\site-packages\\transformers\\utils\\generic.py:309: FutureWarning: `torch.utils._pytree._register_pytree_node` is deprecated. Please use `torch.utils._pytree.register_pytree_node` instead.\n",
      "  _torch_pytree._register_pytree_node(\n",
      "C:\\Users\\boz42\\anaconda3\\Lib\\site-packages\\thinc\\shims\\pytorch.py:261: FutureWarning: You are using `torch.load` with `weights_only=False` (the current default value), which uses the default pickle module implicitly. It is possible to construct malicious pickle data which will execute arbitrary code during unpickling (See https://github.com/pytorch/pytorch/blob/main/SECURITY.md#untrusted-models for more details). In a future release, the default value for `weights_only` will be flipped to `True`. This limits the functions that could be executed during unpickling. Arbitrary objects will no longer be allowed to be loaded via this mode unless they are explicitly allowlisted by the user via `torch.serialization.add_safe_globals`. We recommend you start setting `weights_only=True` for any use case where you don't have full control of the loaded file. Please open an issue on GitHub for any issues related to this experimental feature.\n",
      "  model.load_state_dict(torch.load(filelike, map_location=device))\n"
     ]
    }
   ],
   "source": [
    "nlp = spacy.load('en_core_web_trf')\n",
    "nlpES = spacy.load('es_dep_news_trf')"
   ],
   "metadata": {
    "collapsed": false,
    "ExecuteTime": {
     "end_time": "2024-12-11T17:53:58.378627Z",
     "start_time": "2024-12-11T17:53:54.005373Z"
    }
   },
   "id": "17f2e5ebcedf8776",
   "execution_count": 10
  },
  {
   "cell_type": "code",
   "outputs": [],
   "source": [
    "text = 'This text may appear to be purely random, but it actually details the account of a quick brown dog jumping over the lazy brown fox.'\n",
    "doc = nlp(text)"
   ],
   "metadata": {
    "collapsed": false,
    "ExecuteTime": {
     "end_time": "2024-12-11T13:26:23.444375Z",
     "start_time": "2024-12-11T13:26:23.157944Z"
    }
   },
   "id": "c2112fd501afe4c3",
   "execution_count": 3
  },
  {
   "cell_type": "code",
   "outputs": [
    {
     "name": "stdout",
     "output_type": "stream",
     "text": [
      "This DET det\n",
      "text NOUN nsubj\n",
      "may AUX aux\n",
      "appear VERB ROOT\n",
      "to PART aux\n",
      "be AUX xcomp\n",
      "purely ADV advmod\n",
      "random ADJ acomp\n",
      ", PUNCT punct\n",
      "but CCONJ cc\n",
      "it PRON nsubj\n",
      "actually ADV advmod\n",
      "details VERB conj\n",
      "the DET det\n",
      "account NOUN dobj\n",
      "of ADP prep\n",
      "a DET det\n",
      "quick ADJ amod\n",
      "brown ADJ amod\n",
      "dog NOUN nsubj\n",
      "jumping VERB pcomp\n",
      "over ADP prep\n",
      "the DET det\n",
      "lazy ADJ amod\n",
      "brown ADJ amod\n",
      "fox NOUN pobj\n",
      ". PUNCT punct\n"
     ]
    }
   ],
   "source": [
    "for token in doc:\n",
    "    print(token.text, token.pos_, token.dep_)"
   ],
   "metadata": {
    "collapsed": false,
    "ExecuteTime": {
     "end_time": "2024-12-11T13:26:23.487414Z",
     "start_time": "2024-12-11T13:26:23.474035Z"
    }
   },
   "id": "426b9b503ce0aad5",
   "execution_count": 4
  },
  {
   "cell_type": "code",
   "outputs": [
    {
     "name": "stdout",
     "output_type": "stream",
     "text": [
      "[Case=Nom|Gender=Masc|Number=Sing|Person=3|PronType=Prs, Tense=Past|VerbForm=Fin, Tense=Past|VerbForm=Part, , Number=Sing, , Definite=Def|PronType=Art, Number=Sing, Tense=Past|VerbForm=Fin, PunctType=Peri]\n"
     ]
    }
   ],
   "source": [
    "lemmatizer = nlp.get_pipe('lemmatizer')\n",
    "lemmaDoc = nlp('He had been in Vienna when the earthquake struck.')\n",
    "print([token.morph for token in lemmaDoc])"
   ],
   "metadata": {
    "collapsed": false,
    "ExecuteTime": {
     "end_time": "2024-12-11T13:26:23.629610Z",
     "start_time": "2024-12-11T13:26:23.492422Z"
    }
   },
   "id": "fd4cdca4493c211e",
   "execution_count": 5
  },
  {
   "cell_type": "code",
   "outputs": [],
   "source": [
    "docES = nlpES(\"Mándame un mensaje cuando llegues e iré por tí.\")\n",
    "# Since this is an interactive Jupyter environment, we can use displacy.render here\n",
    "# displacy.render(docES, style='dep')"
   ],
   "metadata": {
    "collapsed": false,
    "ExecuteTime": {
     "end_time": "2024-12-11T13:26:23.718536Z",
     "start_time": "2024-12-11T13:26:23.637618Z"
    }
   },
   "id": "3c5d951c9a983627",
   "execution_count": 6
  },
  {
   "cell_type": "code",
   "outputs": [
    {
     "name": "stdout",
     "output_type": "stream",
     "text": [
      "Mándame: Case=Acc|Mood=Imp|Number=Sing|Person=2|PrepCase=Npr|PronType=Prs|Reflex=Yes|VerbForm=Fin\n",
      "un: Definite=Ind|Gender=Masc|Number=Sing|PronType=Art\n",
      "mensaje: Gender=Masc|Number=Sing\n",
      "cuando: \n",
      "llegues: Mood=Sub|Number=Sing|Person=2|Tense=Pres|VerbForm=Fin\n",
      "e: \n",
      "iré: Mood=Ind|Number=Sing|Person=1|Tense=Fut|VerbForm=Fin\n",
      "por: \n",
      "tí: Case=Acc|Number=Sing|Person=2|PrepCase=Pre|PronType=Prs\n",
      ".: PunctType=Peri\n"
     ]
    }
   ],
   "source": [
    "for token in docES:\n",
    "        print(f'{token}: {token.morph}')\n"
   ],
   "metadata": {
    "collapsed": false,
    "ExecuteTime": {
     "end_time": "2024-12-11T13:26:23.727283Z",
     "start_time": "2024-12-11T13:26:23.719542Z"
    }
   },
   "id": "55f884c498ff1ba2",
   "execution_count": 7
  },
  {
   "cell_type": "code",
   "outputs": [
    {
     "ename": "NameError",
     "evalue": "name 'nlpES' is not defined",
     "output_type": "error",
     "traceback": [
      "\u001B[1;31m---------------------------------------------------------------------------\u001B[0m",
      "\u001B[1;31mNameError\u001B[0m                                 Traceback (most recent call last)",
      "Cell \u001B[1;32mIn[9], line 1\u001B[0m\n\u001B[1;32m----> 1\u001B[0m matcher \u001B[38;5;241m=\u001B[39m Matcher(nlpES\u001B[38;5;241m.\u001B[39mvocab)\n\u001B[0;32m      2\u001B[0m subjectPattern \u001B[38;5;241m=\u001B[39m [\n\u001B[0;32m      3\u001B[0m     [\n\u001B[0;32m      4\u001B[0m         {\u001B[38;5;124m'\u001B[39m\u001B[38;5;124mDEP\u001B[39m\u001B[38;5;124m'\u001B[39m: \u001B[38;5;124m'\u001B[39m\u001B[38;5;124mdet\u001B[39m\u001B[38;5;124m'\u001B[39m, \u001B[38;5;124m'\u001B[39m\u001B[38;5;124mOP\u001B[39m\u001B[38;5;124m'\u001B[39m: \u001B[38;5;124m'\u001B[39m\u001B[38;5;124m?\u001B[39m\u001B[38;5;124m'\u001B[39m},  \u001B[38;5;66;03m# Determiner\u001B[39;00m\n\u001B[1;32m   (...)\u001B[0m\n\u001B[0;32m     21\u001B[0m     ],\n\u001B[0;32m     22\u001B[0m ]\n\u001B[0;32m     23\u001B[0m matcher\u001B[38;5;241m.\u001B[39madd(\u001B[38;5;124m'\u001B[39m\u001B[38;5;124mSubject\u001B[39m\u001B[38;5;124m'\u001B[39m, subjectPattern)\n",
      "\u001B[1;31mNameError\u001B[0m: name 'nlpES' is not defined"
     ]
    }
   ],
   "source": [],
   "metadata": {
    "collapsed": false,
    "ExecuteTime": {
     "end_time": "2024-12-11T17:53:51.018583Z",
     "start_time": "2024-12-11T17:53:50.985651Z"
    }
   },
   "id": "60a5c8742ececa45",
   "execution_count": 9
  }
 ],
 "metadata": {
  "kernelspec": {
   "display_name": "Python 3",
   "language": "python",
   "name": "python3"
  },
  "language_info": {
   "codemirror_mode": {
    "name": "ipython",
    "version": 2
   },
   "file_extension": ".py",
   "mimetype": "text/x-python",
   "name": "python",
   "nbconvert_exporter": "python",
   "pygments_lexer": "ipython2",
   "version": "2.7.6"
  }
 },
 "nbformat": 4,
 "nbformat_minor": 5
}
